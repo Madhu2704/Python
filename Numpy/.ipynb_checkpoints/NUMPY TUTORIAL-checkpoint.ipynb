{
 "cells": [
  {
   "cell_type": "markdown",
   "metadata": {},
   "source": [
    "### Loading Numpy"
   ]
  },
  {
   "cell_type": "code",
   "execution_count": 7,
   "metadata": {},
   "outputs": [],
   "source": [
    "import numpy as np"
   ]
  },
  {
   "cell_type": "markdown",
   "metadata": {},
   "source": [
    "# The Basics"
   ]
  },
  {
   "cell_type": "code",
   "execution_count": 29,
   "metadata": {},
   "outputs": [
    {
     "data": {
      "text/plain": [
       "(3,)"
      ]
     },
     "execution_count": 29,
     "metadata": {},
     "output_type": "execute_result"
    }
   ],
   "source": [
    "oneDimensionArr=np.array(['Madhu','Prakash','Behara'])\n",
    "oneDimensionArr\n",
    "np.shape(oneDimensionArr)  "
   ]
  },
  {
   "cell_type": "code",
   "execution_count": 47,
   "metadata": {},
   "outputs": [
    {
     "data": {
      "text/plain": [
       "(2, 6)"
      ]
     },
     "execution_count": 47,
     "metadata": {},
     "output_type": "execute_result"
    }
   ],
   "source": [
    "twoDimensionArr=np.array([[1,2,3,4,5,6],[4,5,6,7,8,9]])\n",
    "twoDimensionArr\n",
    "np.shape(twoDimensionArr)  "
   ]
  },
  {
   "cell_type": "code",
   "execution_count": 18,
   "metadata": {},
   "outputs": [
    {
     "data": {
      "text/plain": [
       "(1, 3, 3)"
      ]
     },
     "execution_count": 18,
     "metadata": {},
     "output_type": "execute_result"
    }
   ],
   "source": [
    "threeDimensionalArr=np.array([[[1,2,3],[2,3,4],[3,4,5]]])\n",
    "threeDimensionalArr\n",
    "np.shape(threeDimensionalArr)                             "
   ]
  },
  {
   "cell_type": "code",
   "execution_count": 22,
   "metadata": {},
   "outputs": [
    {
     "data": {
      "text/plain": [
       "(1, 2, 3)"
      ]
     },
     "execution_count": 22,
     "metadata": {},
     "output_type": "execute_result"
    }
   ],
   "source": [
    "# Get the Dimension of the Numpy Array \n",
    "oneDimensionArr.ndim, twoDimensionArr.ndim, threeDimensionalArr.ndim"
   ]
  },
  {
   "cell_type": "code",
   "execution_count": 23,
   "metadata": {},
   "outputs": [
    {
     "data": {
      "text/plain": [
       "((3,), (2, 3), (1, 3, 3))"
      ]
     },
     "execution_count": 23,
     "metadata": {},
     "output_type": "execute_result"
    }
   ],
   "source": [
    "# To get the no of rows and columns \n",
    "oneDimensionArr.shape, twoDimensionArr.shape, threeDimensionalArr.shape"
   ]
  },
  {
   "cell_type": "code",
   "execution_count": 31,
   "metadata": {},
   "outputs": [
    {
     "data": {
      "text/plain": [
       "(dtype('<U7'), dtype('int32'), dtype('int32'))"
      ]
     },
     "execution_count": 31,
     "metadata": {},
     "output_type": "execute_result"
    }
   ],
   "source": [
    "# Get the Data Type of Array\n",
    "oneDimensionArr.dtype,twoDimensionArr.dtype,threeDimensionalArr.dtype"
   ]
  },
  {
   "cell_type": "code",
   "execution_count": 33,
   "metadata": {},
   "outputs": [
    {
     "data": {
      "text/plain": [
       "(28, 4, 4)"
      ]
     },
     "execution_count": 33,
     "metadata": {},
     "output_type": "execute_result"
    }
   ],
   "source": [
    "#Get the individual Item size\n",
    "oneDimensionArr.itemsize,twoDimensionArr.itemsize,threeDimensionalArr.itemsize"
   ]
  },
  {
   "cell_type": "code",
   "execution_count": 36,
   "metadata": {},
   "outputs": [
    {
     "data": {
      "text/plain": [
       "(3, 6, 9)"
      ]
     },
     "execution_count": 36,
     "metadata": {},
     "output_type": "execute_result"
    }
   ],
   "source": [
    "# Get the No of elements inside the Numpy array\n",
    "oneDimensionArr.size,twoDimensionArr.size,threeDimensionalArr.size"
   ]
  },
  {
   "cell_type": "code",
   "execution_count": 37,
   "metadata": {},
   "outputs": [
    {
     "data": {
      "text/plain": [
       "(84, 24, 36)"
      ]
     },
     "execution_count": 37,
     "metadata": {},
     "output_type": "execute_result"
    }
   ],
   "source": [
    "# Get the No of bytes occupied by the Numpy Array\n",
    "oneDimensionArr.nbytes,twoDimensionArr.nbytes,threeDimensionalArr.nbytes"
   ]
  },
  {
   "cell_type": "markdown",
   "metadata": {},
   "source": [
    "## Accessing/Changing Specific  Elements,Rows, Columns ... etc"
   ]
  },
  {
   "cell_type": "code",
   "execution_count": 40,
   "metadata": {},
   "outputs": [
    {
     "data": {
      "text/plain": [
       "('Madhu', 3, 5)"
      ]
     },
     "execution_count": 40,
     "metadata": {},
     "output_type": "execute_result"
    }
   ],
   "source": [
    "# Get the Specific Element from the Numpy array\n",
    "oneDimensionArr[0],twoDimensionArr[0,2],threeDimensionalArr[0,2,2]"
   ]
  },
  {
   "cell_type": "code",
   "execution_count": 43,
   "metadata": {},
   "outputs": [
    {
     "data": {
      "text/plain": [
       "(array([1, 2, 3]), array([3, 4, 5]))"
      ]
     },
     "execution_count": 43,
     "metadata": {},
     "output_type": "execute_result"
    }
   ],
   "source": [
    "# Get the Row from Numpy array\n",
    "twoDimensionArr[0,:],threeDimensionalArr[0,2,:]"
   ]
  },
  {
   "cell_type": "code",
   "execution_count": 46,
   "metadata": {},
   "outputs": [
    {
     "data": {
      "text/plain": [
       "(array([3, 6]), array([2, 3, 4]))"
      ]
     },
     "execution_count": 46,
     "metadata": {},
     "output_type": "execute_result"
    }
   ],
   "source": [
    "#Get the Specific Column\n",
    "twoDimensionArr[:,2],threeDimensionalArr[0,:,1]"
   ]
  },
  {
   "cell_type": "code",
   "execution_count": 53,
   "metadata": {},
   "outputs": [
    {
     "data": {
      "text/plain": [
       "array([1, 3, 5])"
      ]
     },
     "execution_count": 53,
     "metadata": {},
     "output_type": "execute_result"
    }
   ],
   "source": [
    "#Get the Items on Intervalbase\n",
    "twoDimensionArr[0,0:-1:2]"
   ]
  },
  {
   "cell_type": "code",
   "execution_count": 59,
   "metadata": {},
   "outputs": [
    {
     "data": {
      "text/plain": [
       "array([[3, 3, 5, 5, 5, 5],\n",
       "       [4, 5, 6, 7, 8, 9]])"
      ]
     },
     "execution_count": 59,
     "metadata": {},
     "output_type": "execute_result"
    }
   ],
   "source": [
    "#Changing the Elements of specific position\n",
    "twoDimensionArr[0,0:2]=3\n",
    "twoDimensionArr"
   ]
  },
  {
   "cell_type": "markdown",
   "metadata": {},
   "source": [
    "#### Intialize different type of Arrays"
   ]
  },
  {
   "cell_type": "code",
   "execution_count": 69,
   "metadata": {},
   "outputs": [
    {
     "data": {
      "text/plain": [
       "(array([0., 0.]),\n",
       " array([[0., 0.],\n",
       "        [0., 0.]]),\n",
       " array([[[0., 0.],\n",
       "         [0., 0.]],\n",
       " \n",
       "        [[0., 0.],\n",
       "         [0., 0.]]]))"
      ]
     },
     "execution_count": 69,
     "metadata": {},
     "output_type": "execute_result"
    }
   ],
   "source": [
    "#All 0's matrix\n",
    "np.zeros((2,)), np.zeros((2,2)), np.zeros((2,2,2))"
   ]
  },
  {
   "cell_type": "code",
   "execution_count": 71,
   "metadata": {},
   "outputs": [
    {
     "data": {
      "text/plain": [
       "(array([1., 1.]),\n",
       " array([[1., 1.],\n",
       "        [1., 1.]]),\n",
       " array([[[1., 1.],\n",
       "         [1., 1.]],\n",
       " \n",
       "        [[1., 1.],\n",
       "         [1., 1.]]]))"
      ]
     },
     "execution_count": 71,
     "metadata": {},
     "output_type": "execute_result"
    }
   ],
   "source": [
    "#All 1's matrix\n",
    "np.ones((2,)), np.ones((2,2)), np.ones((2,2,2))"
   ]
  },
  {
   "cell_type": "code",
   "execution_count": 74,
   "metadata": {},
   "outputs": [
    {
     "data": {
      "text/plain": [
       "(array([66, 66]),\n",
       " array([[5, 5],\n",
       "        [5, 5]]),\n",
       " array([[[0.23, 0.23],\n",
       "         [0.23, 0.23]],\n",
       " \n",
       "        [[0.23, 0.23],\n",
       "         [0.23, 0.23]]]))"
      ]
     },
     "execution_count": 74,
     "metadata": {},
     "output_type": "execute_result"
    }
   ],
   "source": [
    "# Any Number matrix\n",
    "np.full((2,),66), np.full((2,2),5), np.full((2,2,2),0.23)"
   ]
  },
  {
   "cell_type": "code",
   "execution_count": 80,
   "metadata": {},
   "outputs": [
    {
     "data": {
      "text/plain": [
       "array([[[66, 66, 66],\n",
       "        [66, 66, 66],\n",
       "        [66, 66, 66]]])"
      ]
     },
     "execution_count": 80,
     "metadata": {},
     "output_type": "execute_result"
    }
   ],
   "source": [
    "#Copying the other array shape\n",
    "np.full(threeDimensionalArr.shape,66)\n",
    "np.full_like(threeDimensionalArr,66)"
   ]
  },
  {
   "cell_type": "code",
   "execution_count": 82,
   "metadata": {},
   "outputs": [
    {
     "data": {
      "text/plain": [
       "array([[0.89688054, 0.36058255],\n",
       "       [0.55617765, 0.05988622],\n",
       "       [0.09523779, 0.63603506],\n",
       "       [0.4578533 , 0.37034887]])"
      ]
     },
     "execution_count": 82,
     "metadata": {},
     "output_type": "execute_result"
    }
   ],
   "source": [
    "# matrix with random values\n",
    "np.random.rand(4,2)"
   ]
  },
  {
   "cell_type": "code",
   "execution_count": 84,
   "metadata": {},
   "outputs": [
    {
     "data": {
      "text/plain": [
       "array([[[0.95189858, 0.44290886, 0.21006545],\n",
       "        [0.14020841, 0.27097644, 0.82529585],\n",
       "        [0.08614403, 0.32057151, 0.06664287]]])"
      ]
     },
     "execution_count": 84,
     "metadata": {},
     "output_type": "execute_result"
    }
   ],
   "source": [
    "# matrix with random values with reference shape from other array\n",
    "np.random.random_sample(threeDimensionalArr.shape)"
   ]
  },
  {
   "cell_type": "code",
   "execution_count": 87,
   "metadata": {},
   "outputs": [
    {
     "data": {
      "text/plain": [
       "array([[4, 4, 4],\n",
       "       [4, 6, 7],\n",
       "       [5, 4, 5]])"
      ]
     },
     "execution_count": 87,
     "metadata": {},
     "output_type": "execute_result"
    }
   ],
   "source": [
    "#matrix with random intieger values\n",
    "#np.random.randint(startWith,endWith,size=shapeOfmatrix)\n",
    "np.random.randint(4,8,size=(3,3))"
   ]
  },
  {
   "cell_type": "code",
   "execution_count": 90,
   "metadata": {},
   "outputs": [
    {
     "data": {
      "text/plain": [
       "array([[1., 0., 0., 0., 0.],\n",
       "       [0., 1., 0., 0., 0.],\n",
       "       [0., 0., 1., 0., 0.],\n",
       "       [0., 0., 0., 1., 0.],\n",
       "       [0., 0., 0., 0., 1.]])"
      ]
     },
     "execution_count": 90,
     "metadata": {},
     "output_type": "execute_result"
    }
   ],
   "source": [
    "#Identy Matrix diagnol elements will be 1 remaining will be negative\n",
    "np.identity(5)"
   ]
  },
  {
   "cell_type": "code",
   "execution_count": 94,
   "metadata": {},
   "outputs": [
    {
     "data": {
      "text/plain": [
       "array([[1, 2, 3],\n",
       "       [1, 2, 3],\n",
       "       [1, 2, 3],\n",
       "       [1, 2, 3]])"
      ]
     },
     "execution_count": 94,
     "metadata": {},
     "output_type": "execute_result"
    }
   ],
   "source": [
    "#repeat same row to all the other\n",
    "#axis 0 for rows and axis 1 for columns\n",
    "twoDimensionArr=np.array([[1,2,3]])\n",
    "newTwoDimensionArr=np.repeat(twoDimensionArr,4,axis=0)\n",
    "newTwoDimensionArr"
   ]
  },
  {
   "cell_type": "code",
   "execution_count": 102,
   "metadata": {},
   "outputs": [
    {
     "name": "stdout",
     "output_type": "stream",
     "text": [
      "[[1. 1. 1. 1. 1.]\n",
      " [1. 1. 1. 1. 1.]\n",
      " [1. 1. 1. 1. 1.]\n",
      " [1. 1. 1. 1. 1.]\n",
      " [1. 1. 1. 1. 1.]]\n",
      "[[0. 0. 0.]\n",
      " [0. 0. 0.]\n",
      " [0. 0. 0.]]\n",
      "[[0. 0. 0.]\n",
      " [0. 9. 0.]\n",
      " [0. 0. 0.]]\n"
     ]
    },
    {
     "data": {
      "text/plain": [
       "array([[1., 1., 1., 1., 1.],\n",
       "       [1., 0., 0., 0., 1.],\n",
       "       [1., 0., 9., 0., 1.],\n",
       "       [1., 0., 0., 0., 1.],\n",
       "       [1., 1., 1., 1., 1.]])"
      ]
     },
     "execution_count": 102,
     "metadata": {},
     "output_type": "execute_result"
    }
   ],
   "source": [
    "output=np.ones((5,5))\n",
    "zeros=np.zeros((3,3))\n",
    "print(output)\n",
    "print(zeros)\n",
    "zeros[1][1]=9\n",
    "print(zeros)\n",
    "output[1:-1,1:-1]=zeros\n",
    "output"
   ]
  },
  {
   "cell_type": "markdown",
   "metadata": {},
   "source": [
    "### Copying the Numpy Array"
   ]
  },
  {
   "cell_type": "code",
   "execution_count": 106,
   "metadata": {},
   "outputs": [
    {
     "name": "stdout",
     "output_type": "stream",
     "text": [
      "[300   2   3]\n",
      "[300   2   3]\n",
      "----------------------\n",
      "[300   2   3]\n",
      "[400   2   3]\n"
     ]
    }
   ],
   "source": [
    "a=np.array([1,2,3])\n",
    "b=a\n",
    "b[0]=300 #This will also change array of a\n",
    "print(a)\n",
    "print(b)\n",
    "print(\"----------------------\")\n",
    "c=a.copy()\n",
    "c[0]=400\n",
    "print(a)\n",
    "print(c)"
   ]
  },
  {
   "cell_type": "markdown",
   "metadata": {},
   "source": [
    "### mathematics"
   ]
  },
  {
   "cell_type": "code",
   "execution_count": 107,
   "metadata": {},
   "outputs": [
    {
     "data": {
      "text/plain": [
       "array([ 3,  4,  5, 47,  7])"
      ]
     },
     "execution_count": 107,
     "metadata": {},
     "output_type": "execute_result"
    }
   ],
   "source": [
    "a=np.array([1,2,3,45,5])\n",
    "#Adds 2 to all the values of the array\n",
    "a+2"
   ]
  },
  {
   "cell_type": "code",
   "execution_count": 114,
   "metadata": {},
   "outputs": [
    {
     "name": "stdout",
     "output_type": "stream",
     "text": [
      "[-4 -3 -2 40  0]\n",
      "[  6  12  18 270  30]\n",
      "[0.16666667 0.33333333 0.5        7.5        0.83333333]\n",
      "[   1    4    9 2025   25]\n"
     ]
    }
   ],
   "source": [
    "#substract -5 from all th values of the array\n",
    "print(a-5)\n",
    "\n",
    "#Multiply 6 to all the values in the array\n",
    "print(a*6)\n",
    "\n",
    "#Divide 8 to all the values in the array\n",
    "print(a/6)\n",
    "\n",
    "#power of 2 to all the values in the array\n",
    "print(a**2)"
   ]
  },
  {
   "cell_type": "code",
   "execution_count": 115,
   "metadata": {},
   "outputs": [
    {
     "data": {
      "text/plain": [
       "array([ 5,  7,  9, 52, 82])"
      ]
     },
     "execution_count": 115,
     "metadata": {},
     "output_type": "execute_result"
    }
   ],
   "source": [
    "#adding two numpy arrays\n",
    "b=np.array([4,5,6,7,77])\n",
    "a+b"
   ]
  },
  {
   "cell_type": "code",
   "execution_count": 117,
   "metadata": {},
   "outputs": [
    {
     "data": {
      "text/plain": [
       "array([ 0.54030231, -0.41614684, -0.9899925 ,  0.52532199,  0.28366219])"
      ]
     },
     "execution_count": 117,
     "metadata": {},
     "output_type": "execute_result"
    }
   ],
   "source": [
    "#Trignometry\n",
    "np.cos(a)"
   ]
  },
  {
   "cell_type": "markdown",
   "metadata": {},
   "source": [
    "#### Linear Algebra"
   ]
  },
  {
   "cell_type": "code",
   "execution_count": 122,
   "metadata": {},
   "outputs": [
    {
     "data": {
      "text/plain": [
       "(array([[1., 1., 1.],\n",
       "        [1., 1., 1.]]),\n",
       " array([[3, 3],\n",
       "        [3, 3],\n",
       "        [3, 3]]),\n",
       " array([[9., 9.],\n",
       "        [9., 9.]]))"
      ]
     },
     "execution_count": 122,
     "metadata": {},
     "output_type": "execute_result"
    }
   ],
   "source": [
    "a=np.ones((2,3))\n",
    "b=np.full((3,2),3)\n",
    "#matrix multiplication when different shapes\n",
    "a,b,np.matmul(a,b)"
   ]
  },
  {
   "cell_type": "code",
   "execution_count": 126,
   "metadata": {},
   "outputs": [
    {
     "data": {
      "text/plain": [
       "(array([[1., 0., 0., 0., 0.],\n",
       "        [0., 1., 0., 0., 0.],\n",
       "        [0., 0., 1., 0., 0.],\n",
       "        [0., 0., 0., 1., 0.],\n",
       "        [0., 0., 0., 0., 1.]]),\n",
       " 1.0)"
      ]
     },
     "execution_count": 126,
     "metadata": {},
     "output_type": "execute_result"
    }
   ],
   "source": [
    "c=np.identity(5)\n",
    "c,np.linalg.det(c)"
   ]
  },
  {
   "cell_type": "markdown",
   "metadata": {},
   "source": [
    "#### Statistics"
   ]
  },
  {
   "cell_type": "code",
   "execution_count": 132,
   "metadata": {},
   "outputs": [
    {
     "data": {
      "text/plain": [
       "(array([[46, 32, 22],\n",
       "        [ 5, 92, 27],\n",
       "        [ 9, 48, 12]]),\n",
       " 5,\n",
       " 92)"
      ]
     },
     "execution_count": 132,
     "metadata": {},
     "output_type": "execute_result"
    }
   ],
   "source": [
    "randomMatrix=np.random.randint(4,100,size=(3,3))\n",
    "#Minimum and Maximum Value of the Matrix\n",
    "randomMatrix,np.min(randomMatrix),np.max(randomMatrix)"
   ]
  },
  {
   "cell_type": "code",
   "execution_count": 134,
   "metadata": {},
   "outputs": [
    {
     "data": {
      "text/plain": [
       "(array([ 5, 32, 12]),\n",
       " array([22,  5,  9]),\n",
       " array([46, 92, 27]),\n",
       " array([46, 92, 48]))"
      ]
     },
     "execution_count": 134,
     "metadata": {},
     "output_type": "execute_result"
    }
   ],
   "source": [
    "#Minimum and maximum by row and columwise\n",
    "np.min(randomMatrix,axis=0),np.min(randomMatrix,axis=1),np.max(randomMatrix,axis=0),np.max(randomMatrix,axis=1)"
   ]
  },
  {
   "cell_type": "code",
   "execution_count": 136,
   "metadata": {},
   "outputs": [
    {
     "data": {
      "text/plain": [
       "array([ 60, 172,  61])"
      ]
     },
     "execution_count": 136,
     "metadata": {},
     "output_type": "execute_result"
    }
   ],
   "source": [
    "np.sum(randomMatrix,axis=0)"
   ]
  },
  {
   "cell_type": "markdown",
   "metadata": {},
   "source": [
    "### Reshape of arrays"
   ]
  },
  {
   "cell_type": "code",
   "execution_count": 139,
   "metadata": {},
   "outputs": [
    {
     "data": {
      "text/plain": [
       "array([[46],\n",
       "       [32],\n",
       "       [22],\n",
       "       [ 5],\n",
       "       [92],\n",
       "       [27],\n",
       "       [ 9],\n",
       "       [48],\n",
       "       [12]])"
      ]
     },
     "execution_count": 139,
     "metadata": {},
     "output_type": "execute_result"
    }
   ],
   "source": [
    "randomMatrix=randomMatrix.reshape((9,1))\n",
    "randomMatrix"
   ]
  },
  {
   "cell_type": "code",
   "execution_count": 143,
   "metadata": {},
   "outputs": [
    {
     "data": {
      "text/plain": [
       "(array([[1, 2, 3, 4],\n",
       "        [5, 6, 7, 8],\n",
       "        [1, 2, 3, 4],\n",
       "        [5, 6, 7, 8]]),\n",
       " array([1, 2, 3, 4, 5, 6, 7, 8, 1, 2, 3, 4, 5, 6, 7, 8]))"
      ]
     },
     "execution_count": 143,
     "metadata": {},
     "output_type": "execute_result"
    }
   ],
   "source": [
    "#horizontal and vertically stacking vectors\n",
    "v1=np.array([1,2,3,4])\n",
    "v2=np.array([5,6,7,8])\n",
    "np.vstack([v1,v2,v1,v2]),np.hstack([v1,v2,v1,v2])"
   ]
  },
  {
   "cell_type": "markdown",
   "metadata": {},
   "source": [
    "#### Loading data from file"
   ]
  },
  {
   "cell_type": "code",
   "execution_count": 147,
   "metadata": {},
   "outputs": [
    {
     "data": {
      "text/plain": [
       "array([ 1,  2,  3,  4,  5,  6,  7,  8,  9, 12,  3, 45])"
      ]
     },
     "execution_count": 147,
     "metadata": {},
     "output_type": "execute_result"
    }
   ],
   "source": [
    "filedata=np.genfromtxt('array_data.txt',delimiter=',')\n",
    "filedata=filedata.astype('int32')\n",
    "filedata"
   ]
  },
  {
   "cell_type": "markdown",
   "metadata": {},
   "source": [
    "### Boolean Masking and Advanced Masking"
   ]
  },
  {
   "cell_type": "code",
   "execution_count": 150,
   "metadata": {},
   "outputs": [
    {
     "data": {
      "text/plain": [
       "array([False, False,  True,  True,  True,  True,  True,  True,  True,\n",
       "        True,  True,  True])"
      ]
     },
     "execution_count": 150,
     "metadata": {},
     "output_type": "execute_result"
    }
   ],
   "source": [
    "filedata>2 #gives boolean array which shows true when condition satisfies"
   ]
  },
  {
   "cell_type": "code",
   "execution_count": 152,
   "metadata": {},
   "outputs": [
    {
     "data": {
      "text/plain": [
       "array([ 3,  4,  5,  6,  7,  8,  9, 12,  3, 45])"
      ]
     },
     "execution_count": 152,
     "metadata": {},
     "output_type": "execute_result"
    }
   ],
   "source": [
    "#Indexing\n",
    "filedata[filedata>2]"
   ]
  },
  {
   "cell_type": "code",
   "execution_count": 154,
   "metadata": {},
   "outputs": [
    {
     "data": {
      "text/plain": [
       "array([3, 4, 5])"
      ]
     },
     "execution_count": 154,
     "metadata": {},
     "output_type": "execute_result"
    }
   ],
   "source": [
    "## Indexing with list in numpy\n",
    "filedata[[2,3,4]]"
   ]
  },
  {
   "cell_type": "code",
   "execution_count": 160,
   "metadata": {},
   "outputs": [
    {
     "data": {
      "text/plain": [
       "(array([[77, 45, 61],\n",
       "        [38, 60, 51],\n",
       "        [26, 23, 33]]),\n",
       " array([ True,  True,  True]),\n",
       " array([ True,  True, False]),\n",
       " array([False, False, False]),\n",
       " array([False, False, False]))"
      ]
     },
     "execution_count": 160,
     "metadata": {},
     "output_type": "execute_result"
    }
   ],
   "source": [
    "# any value in the axis satisfy the condition\n",
    "randomMatrix=np.random.randint(4,100,size=(3,3))\n",
    "randomMatrix,np.any(randomMatrix>50,axis=0),np.any(randomMatrix>50,axis=1),np.all(randomMatrix>50,axis=0),np.all(randomMatrix>50,axis=1)"
   ]
  }
 ],
 "metadata": {
  "kernelspec": {
   "display_name": "Python 3",
   "language": "python",
   "name": "python3"
  },
  "language_info": {
   "codemirror_mode": {
    "name": "ipython",
    "version": 3
   },
   "file_extension": ".py",
   "mimetype": "text/x-python",
   "name": "python",
   "nbconvert_exporter": "python",
   "pygments_lexer": "ipython3",
   "version": "3.8.3"
  }
 },
 "nbformat": 4,
 "nbformat_minor": 4
}
